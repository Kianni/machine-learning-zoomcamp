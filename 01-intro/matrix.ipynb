{
 "cells": [
  {
   "cell_type": "code",
   "execution_count": 4,
   "id": "f92675b8-e12b-4722-8793-2af6b1f29fe4",
   "metadata": {},
   "outputs": [],
   "source": [
    "import numpy as np"
   ]
  },
  {
   "cell_type": "markdown",
   "id": "3225426a-6412-4189-aaee-3480e2628616",
   "metadata": {},
   "source": [
    "**Creating arrays**"
   ]
  },
  {
   "cell_type": "code",
   "execution_count": 2,
   "id": "5ed8f833-07f2-4a8f-84e6-b0818b519690",
   "metadata": {},
   "outputs": [
    {
     "data": {
      "text/plain": [
       "array([0., 0., 0., 0., 0.])"
      ]
     },
     "execution_count": 2,
     "metadata": {},
     "output_type": "execute_result"
    }
   ],
   "source": [
    "np.zeros(5)"
   ]
  },
  {
   "cell_type": "code",
   "execution_count": 3,
   "id": "bc66515e-9ecf-4ea0-b3dd-41fde3a9863c",
   "metadata": {},
   "outputs": [
    {
     "data": {
      "text/plain": [
       "array([1., 1., 1., 1., 1., 1.])"
      ]
     },
     "execution_count": 3,
     "metadata": {},
     "output_type": "execute_result"
    }
   ],
   "source": [
    "np.ones(6)"
   ]
  },
  {
   "cell_type": "code",
   "execution_count": 4,
   "id": "6b3f780a-0a2c-47a4-b334-e3d591b9119e",
   "metadata": {},
   "outputs": [
    {
     "data": {
      "text/plain": [
       "array([3.14, 3.14, 3.14, 3.14, 3.14, 3.14, 3.14])"
      ]
     },
     "execution_count": 4,
     "metadata": {},
     "output_type": "execute_result"
    }
   ],
   "source": [
    "np.full(7, 3.14)"
   ]
  },
  {
   "cell_type": "code",
   "execution_count": 6,
   "id": "71f13896-dafb-4b05-83ed-c409f3cb0bb5",
   "metadata": {},
   "outputs": [],
   "source": [
    "numbers = np.array([1,2,3,7,5,12])"
   ]
  },
  {
   "cell_type": "code",
   "execution_count": 7,
   "id": "3cc622be-35d8-4030-ae20-1bb7cac8bd91",
   "metadata": {},
   "outputs": [
    {
     "data": {
      "text/plain": [
       "np.int64(3)"
      ]
     },
     "execution_count": 7,
     "metadata": {},
     "output_type": "execute_result"
    }
   ],
   "source": [
    "numbers[2]"
   ]
  },
  {
   "cell_type": "code",
   "execution_count": 8,
   "id": "bad73d5b-8f9b-43a7-9efa-8f195e988103",
   "metadata": {},
   "outputs": [],
   "source": [
    "numbers[2] = numbers[2]*10"
   ]
  },
  {
   "cell_type": "code",
   "execution_count": 9,
   "id": "83a40e0b-d80d-4cb2-a6e7-6506a85bdd24",
   "metadata": {},
   "outputs": [
    {
     "data": {
      "text/plain": [
       "np.int64(30)"
      ]
     },
     "execution_count": 9,
     "metadata": {},
     "output_type": "execute_result"
    }
   ],
   "source": [
    "numbers[2]"
   ]
  },
  {
   "cell_type": "code",
   "execution_count": 11,
   "id": "55a31cd0-37a4-4c40-a988-0be4c78a7802",
   "metadata": {},
   "outputs": [
    {
     "data": {
      "text/plain": [
       "array([3, 4, 5, 6, 7, 8, 9])"
      ]
     },
     "execution_count": 11,
     "metadata": {},
     "output_type": "execute_result"
    }
   ],
   "source": [
    "np.arange(3, 10)"
   ]
  },
  {
   "cell_type": "code",
   "execution_count": 12,
   "id": "5474e3c5-ef53-49a4-8f18-6a2032a851be",
   "metadata": {},
   "outputs": [
    {
     "data": {
      "text/plain": [
       "array([0. , 0.1, 0.2, 0.3, 0.4, 0.5, 0.6, 0.7, 0.8, 0.9, 1. ])"
      ]
     },
     "execution_count": 12,
     "metadata": {},
     "output_type": "execute_result"
    }
   ],
   "source": [
    "np.linspace(0,1, 11)"
   ]
  },
  {
   "cell_type": "markdown",
   "id": "f9d5dcc6-42c3-452b-a51d-735245b52635",
   "metadata": {},
   "source": [
    "**multi-dimensional arrays**"
   ]
  },
  {
   "cell_type": "code",
   "execution_count": 13,
   "id": "7f97bb21-450d-4a72-8999-848239a86071",
   "metadata": {},
   "outputs": [
    {
     "data": {
      "text/plain": [
       "array([[0., 0.],\n",
       "       [0., 0.],\n",
       "       [0., 0.],\n",
       "       [0., 0.],\n",
       "       [0., 0.]])"
      ]
     },
     "execution_count": 13,
     "metadata": {},
     "output_type": "execute_result"
    }
   ],
   "source": [
    "np.zeros((5,2))"
   ]
  },
  {
   "cell_type": "code",
   "execution_count": 15,
   "id": "8d2b5b8d-8bd1-4f38-b58d-dd3e853d1b3a",
   "metadata": {},
   "outputs": [
    {
     "data": {
      "text/plain": [
       "array([[1, 2, 3],\n",
       "       [4, 5, 6]])"
      ]
     },
     "execution_count": 15,
     "metadata": {},
     "output_type": "execute_result"
    }
   ],
   "source": [
    "multi_dim = np.array([\n",
    "    [1,2,3],\n",
    "    [4,5,6]\n",
    "])\n",
    "\n",
    "multi_dim"
   ]
  },
  {
   "cell_type": "code",
   "execution_count": 19,
   "id": "37b00fae-4615-4524-a415-6629f9dbf7c5",
   "metadata": {},
   "outputs": [
    {
     "data": {
      "text/plain": [
       "array([4, 5, 6])"
      ]
     },
     "execution_count": 19,
     "metadata": {},
     "output_type": "execute_result"
    }
   ],
   "source": [
    "multi_dim[1]"
   ]
  },
  {
   "cell_type": "code",
   "execution_count": 18,
   "id": "ffd68a6f-a1eb-406b-b98c-22c8e38aa4ff",
   "metadata": {},
   "outputs": [
    {
     "data": {
      "text/plain": [
       "np.int64(2)"
      ]
     },
     "execution_count": 18,
     "metadata": {},
     "output_type": "execute_result"
    }
   ],
   "source": [
    "multi_dim[0,1]"
   ]
  },
  {
   "cell_type": "code",
   "execution_count": 20,
   "id": "e0d5e3ec-e95d-4ed1-8dba-dfc13b673e66",
   "metadata": {},
   "outputs": [
    {
     "data": {
      "text/plain": [
       "array([2, 5])"
      ]
     },
     "execution_count": 20,
     "metadata": {},
     "output_type": "execute_result"
    }
   ],
   "source": [
    "multi_dim[:,1]"
   ]
  },
  {
   "cell_type": "markdown",
   "id": "56c46373-086c-45d5-a71f-425b9c189b7e",
   "metadata": {},
   "source": [
    "**Randomly generated arrays**"
   ]
  },
  {
   "cell_type": "code",
   "execution_count": 23,
   "id": "c3410b4a-e5ce-49fb-96a8-6c888f9150fa",
   "metadata": {},
   "outputs": [
    {
     "data": {
      "text/plain": [
       "array([[0.4359949 , 0.02592623],\n",
       "       [0.54966248, 0.43532239],\n",
       "       [0.4203678 , 0.33033482],\n",
       "       [0.20464863, 0.61927097],\n",
       "       [0.29965467, 0.26682728]])"
      ]
     },
     "execution_count": 23,
     "metadata": {},
     "output_type": "execute_result"
    }
   ],
   "source": [
    "np.random.seed(2)\n",
    "np.random.rand(5,2)"
   ]
  },
  {
   "cell_type": "code",
   "execution_count": 25,
   "id": "47cdb955-2c98-4254-8eb7-764f075ccc03",
   "metadata": {},
   "outputs": [
    {
     "data": {
      "text/plain": [
       "array([[43.59949021,  2.59262318],\n",
       "       [54.96624779, 43.53223926],\n",
       "       [42.03678021, 33.0334821 ],\n",
       "       [20.4648634 , 61.92709664],\n",
       "       [29.96546737, 26.68272751]])"
      ]
     },
     "execution_count": 25,
     "metadata": {},
     "output_type": "execute_result"
    }
   ],
   "source": [
    "np.random.seed(2)\n",
    "100*np.random.rand(5,2)"
   ]
  },
  {
   "cell_type": "code",
   "execution_count": 24,
   "id": "4955fc51-0ba5-43a6-88f0-16df6b2db49c",
   "metadata": {},
   "outputs": [
    {
     "data": {
      "text/plain": [
       "array([[37, 39],\n",
       "       [67,  4],\n",
       "       [42, 51],\n",
       "       [38, 33],\n",
       "       [58, 67]])"
      ]
     },
     "execution_count": 24,
     "metadata": {},
     "output_type": "execute_result"
    }
   ],
   "source": [
    "np.random.randint(low=0, high=100, size=(5,2))"
   ]
  },
  {
   "cell_type": "markdown",
   "id": "c19d149c-ed5e-41b8-b6bc-99d2c638e3e8",
   "metadata": {},
   "source": [
    "**element-wise operations**"
   ]
  },
  {
   "cell_type": "code",
   "execution_count": 26,
   "id": "64d385d7-cb0a-4534-b994-979556d70ef4",
   "metadata": {},
   "outputs": [
    {
     "data": {
      "text/plain": [
       "array([0, 1, 2, 3, 4, 5, 6])"
      ]
     },
     "execution_count": 26,
     "metadata": {},
     "output_type": "execute_result"
    }
   ],
   "source": [
    "a = np.arange(7)\n",
    "a"
   ]
  },
  {
   "cell_type": "code",
   "execution_count": 27,
   "id": "2dfaba52-b714-45fb-8e9b-c8426bf8ba8b",
   "metadata": {},
   "outputs": [
    {
     "data": {
      "text/plain": [
       "array([ 7,  8,  9, 10, 11, 12, 13])"
      ]
     },
     "execution_count": 27,
     "metadata": {},
     "output_type": "execute_result"
    }
   ],
   "source": [
    "a + 7"
   ]
  },
  {
   "cell_type": "code",
   "execution_count": 29,
   "id": "92f685b4-6c5e-4551-a0c3-453128b373a0",
   "metadata": {},
   "outputs": [
    {
     "data": {
      "text/plain": [
       "array([ 3. ,  3.8,  6.2, 10.2, 15.8, 23. , 31.8])"
      ]
     },
     "execution_count": 29,
     "metadata": {},
     "output_type": "execute_result"
    }
   ],
   "source": [
    "bigger_numbers = (15 + (a *2 )**2)/5\n",
    "bigger_numbers"
   ]
  },
  {
   "cell_type": "code",
   "execution_count": 30,
   "id": "b3617db0-cfe1-4e48-b2d8-2a42e670c458",
   "metadata": {},
   "outputs": [
    {
     "data": {
      "text/plain": [
       "array([ 3. ,  4.8,  8.2, 13.2, 19.8, 28. , 37.8])"
      ]
     },
     "execution_count": 30,
     "metadata": {},
     "output_type": "execute_result"
    }
   ],
   "source": [
    "a + bigger_numbers"
   ]
  },
  {
   "cell_type": "markdown",
   "id": "a068b602-99c3-494a-be64-37c0d10ddbe3",
   "metadata": {},
   "source": [
    "**comparison operations**"
   ]
  },
  {
   "cell_type": "code",
   "execution_count": 31,
   "id": "e7e1b707-2691-4bf2-9d58-10d91efbcc2e",
   "metadata": {},
   "outputs": [
    {
     "data": {
      "text/plain": [
       "array([False, False, False, False, False, False, False])"
      ]
     },
     "execution_count": 31,
     "metadata": {},
     "output_type": "execute_result"
    }
   ],
   "source": [
    "a > bigger_numbers"
   ]
  },
  {
   "cell_type": "code",
   "execution_count": 33,
   "id": "ca817a7b-d55f-439a-8d44-68fa10a74254",
   "metadata": {},
   "outputs": [
    {
     "data": {
      "text/plain": [
       "array([0, 1, 2, 3, 4, 5, 6])"
      ]
     },
     "execution_count": 33,
     "metadata": {},
     "output_type": "execute_result"
    }
   ],
   "source": [
    "a[a < bigger_numbers]"
   ]
  },
  {
   "cell_type": "code",
   "execution_count": 34,
   "id": "bcae504e-d456-49b0-87b1-912f3af40184",
   "metadata": {},
   "outputs": [
    {
     "data": {
      "text/plain": [
       "array([[0, 1, 2, 3, 4, 5, 6]])"
      ]
     },
     "execution_count": 34,
     "metadata": {},
     "output_type": "execute_result"
    }
   ],
   "source": [
    "a[True]"
   ]
  },
  {
   "cell_type": "markdown",
   "id": "ca9ec5a3-94dd-4ecc-8ad0-9557a3e157cf",
   "metadata": {},
   "source": [
    "**Summarizing operations**"
   ]
  },
  {
   "cell_type": "code",
   "execution_count": 35,
   "id": "88ead32d-2851-4f6d-9b48-b25ff140be9a",
   "metadata": {},
   "outputs": [
    {
     "data": {
      "text/plain": [
       "np.int64(6)"
      ]
     },
     "execution_count": 35,
     "metadata": {},
     "output_type": "execute_result"
    }
   ],
   "source": [
    "a.max()"
   ]
  },
  {
   "cell_type": "code",
   "execution_count": 36,
   "id": "e17c1db5-bfe2-4cc8-9925-f4fbe290892c",
   "metadata": {},
   "outputs": [
    {
     "data": {
      "text/plain": [
       "np.int64(0)"
      ]
     },
     "execution_count": 36,
     "metadata": {},
     "output_type": "execute_result"
    }
   ],
   "source": [
    "a.min()"
   ]
  },
  {
   "cell_type": "code",
   "execution_count": 37,
   "id": "82b24b6b-b832-4f39-a3a8-1918df1be0f5",
   "metadata": {},
   "outputs": [
    {
     "data": {
      "text/plain": [
       "np.int64(21)"
      ]
     },
     "execution_count": 37,
     "metadata": {},
     "output_type": "execute_result"
    }
   ],
   "source": [
    "a.sum()"
   ]
  },
  {
   "cell_type": "code",
   "execution_count": 38,
   "id": "c15af7a2-ff73-453b-8fd9-b569890f8f91",
   "metadata": {},
   "outputs": [
    {
     "data": {
      "text/plain": [
       "np.float64(3.0)"
      ]
     },
     "execution_count": 38,
     "metadata": {},
     "output_type": "execute_result"
    }
   ],
   "source": [
    "a.mean()"
   ]
  },
  {
   "cell_type": "code",
   "execution_count": 39,
   "id": "3b2dc076-98a0-47aa-93b3-f83c2504318d",
   "metadata": {},
   "outputs": [
    {
     "data": {
      "text/plain": [
       "np.float64(2.0)"
      ]
     },
     "execution_count": 39,
     "metadata": {},
     "output_type": "execute_result"
    }
   ],
   "source": [
    "a.std()"
   ]
  },
  {
   "cell_type": "markdown",
   "id": "9cab3ee5-552c-4d5e-8ce6-ec2537e66e5f",
   "metadata": {},
   "source": [
    "**multiplication**"
   ]
  },
  {
   "cell_type": "code",
   "execution_count": 18,
   "id": "e05fb807-e037-4313-9f68-57cf20f5d3f7",
   "metadata": {},
   "outputs": [],
   "source": [
    "u_vector = np.array([1,2,3,4])\n",
    "v_vector = np.array([2,2,2,2])"
   ]
  },
  {
   "cell_type": "code",
   "execution_count": 19,
   "id": "d45ab26c-fde7-4e7c-bd4f-dc64101c5824",
   "metadata": {},
   "outputs": [
    {
     "data": {
      "text/plain": [
       "(4,)"
      ]
     },
     "execution_count": 19,
     "metadata": {},
     "output_type": "execute_result"
    }
   ],
   "source": [
    "u_vector.shape"
   ]
  },
  {
   "cell_type": "code",
   "execution_count": 20,
   "id": "430d9c8b-034b-474a-957a-f323feda74e1",
   "metadata": {},
   "outputs": [
    {
     "data": {
      "text/plain": [
       "(4,)"
      ]
     },
     "execution_count": 20,
     "metadata": {},
     "output_type": "execute_result"
    }
   ],
   "source": [
    "v_vector.shape"
   ]
  },
  {
   "cell_type": "code",
   "execution_count": 102,
   "id": "95cfb483-d601-43d6-9277-2cef2788483a",
   "metadata": {},
   "outputs": [
    {
     "data": {
      "text/plain": [
       "np.int64(20)"
      ]
     },
     "execution_count": 102,
     "metadata": {},
     "output_type": "execute_result"
    }
   ],
   "source": [
    "def vector_vector_multiplication(u, v):\n",
    "    assert u.shape[0] == v.shape[0]\n",
    "\n",
    "    n = u.shape[0]\n",
    "    result = 0\n",
    "    for i in range(n):\n",
    "        row_summa = u[i]*v[i]\n",
    "        result += row_summa\n",
    "        row_summa = 0\n",
    "    return result\n",
    "\n",
    "oppa = vector_vector_multiplication(u_vector, v_vector)\n",
    "oppa"
   ]
  },
  {
   "cell_type": "code",
   "execution_count": 103,
   "id": "beffe0eb-ea14-42de-a3b7-5b3e9a15f655",
   "metadata": {},
   "outputs": [
    {
     "data": {
      "text/plain": [
       "np.int64(20)"
      ]
     },
     "execution_count": 103,
     "metadata": {},
     "output_type": "execute_result"
    }
   ],
   "source": [
    "u_vector.dot(v_vector)"
   ]
  },
  {
   "cell_type": "markdown",
   "id": "0cc8c29d-0256-44d4-8bee-7ed174d58eed",
   "metadata": {},
   "source": [
    "**Matrix-Vector Multiplication**"
   ]
  },
  {
   "cell_type": "code",
   "execution_count": 104,
   "id": "2a03e561-a91f-4e80-91c2-d69180740870",
   "metadata": {},
   "outputs": [],
   "source": [
    "U = np.array([\n",
    "    [2,4,5,6],\n",
    "    [1,2,1,2],\n",
    "    [3,1,2,1]\n",
    "])\n",
    "v = np.array([8,5,3,1])"
   ]
  },
  {
   "cell_type": "code",
   "execution_count": 105,
   "id": "a98c5116-2289-4b0d-9cbb-0ef0c96a0991",
   "metadata": {},
   "outputs": [
    {
     "data": {
      "text/plain": [
       "(3, 4)"
      ]
     },
     "execution_count": 105,
     "metadata": {},
     "output_type": "execute_result"
    }
   ],
   "source": [
    "U.shape"
   ]
  },
  {
   "cell_type": "code",
   "execution_count": 106,
   "id": "14515f8e-fb99-4618-8a48-08c42606166d",
   "metadata": {},
   "outputs": [
    {
     "data": {
      "text/plain": [
       "(4,)"
      ]
     },
     "execution_count": 106,
     "metadata": {},
     "output_type": "execute_result"
    }
   ],
   "source": [
    "U[0].shape"
   ]
  },
  {
   "cell_type": "code",
   "execution_count": 107,
   "id": "790861f4-f8df-49e3-945f-bf6cdf44a626",
   "metadata": {},
   "outputs": [
    {
     "data": {
      "text/plain": [
       "(4,)"
      ]
     },
     "execution_count": 107,
     "metadata": {},
     "output_type": "execute_result"
    }
   ],
   "source": [
    "v.shape"
   ]
  },
  {
   "cell_type": "code",
   "execution_count": 108,
   "id": "692d68b6-5bdc-434c-bb7b-6aacaadae334",
   "metadata": {},
   "outputs": [
    {
     "data": {
      "text/plain": [
       "False"
      ]
     },
     "execution_count": 108,
     "metadata": {},
     "output_type": "execute_result"
    }
   ],
   "source": [
    "U.shape == v.shape[0]"
   ]
  },
  {
   "cell_type": "code",
   "execution_count": 109,
   "id": "bf7e26b5-3587-4f33-b877-8c821cbb4b83",
   "metadata": {},
   "outputs": [],
   "source": [
    "def matrix_vector_multiplication(U, v):\n",
    "    assert U.shape[1] == v.shape[0]\n",
    "\n",
    "    n = v.shape[0]\n",
    "    k = U.shape[0]\n",
    "    # print(\"k\", k)\n",
    "    # print(\"n\", n)\n",
    "    result_array = [0,0,0]\n",
    "\n",
    "    for j in range(k): \n",
    "        result = 0\n",
    "        for i in range(n):\n",
    "            # print(\"U[j]\", U[j])\n",
    "            # print(\"Row\", U[j][i], \"*\", v[i])\n",
    "            row = U[j][i]*v[i]\n",
    "            result += row\n",
    "            # print(\"result\", result)\n",
    "            # print(j)\n",
    "        result_array[j] = result\n",
    "    return result_array"
   ]
  },
  {
   "cell_type": "code",
   "execution_count": 110,
   "id": "b92ad3ee-d466-44b1-8c0b-aab9913bdd03",
   "metadata": {},
   "outputs": [
    {
     "data": {
      "text/plain": [
       "[np.int64(57), np.int64(23), np.int64(36)]"
      ]
     },
     "execution_count": 110,
     "metadata": {},
     "output_type": "execute_result"
    }
   ],
   "source": [
    "oppa_lala = matrix_vector_multiplication(U, v)\n",
    "oppa_lala"
   ]
  },
  {
   "cell_type": "code",
   "execution_count": 111,
   "id": "1fb6f72f-6dc4-4b08-b5f2-693ad88bf554",
   "metadata": {},
   "outputs": [],
   "source": [
    "def matrix_vector_multi_refactored(U, v):\n",
    "    assert U.shape[1] == v.shape[0]\n",
    "\n",
    "    k = U.shape[0]\n",
    "    result_array = np.zeros(k) #[0,0,0]\n",
    "\n",
    "    for j in range(k): \n",
    "        result_array[j] = vector_vector_multiplication(U[j], v)\n",
    "    return result_array"
   ]
  },
  {
   "cell_type": "code",
   "execution_count": 112,
   "id": "f8e65699-f46d-4615-9769-a0c8fb4cf576",
   "metadata": {},
   "outputs": [
    {
     "data": {
      "text/plain": [
       "[np.int64(57), np.int64(23), np.int64(36)]"
      ]
     },
     "execution_count": 112,
     "metadata": {},
     "output_type": "execute_result"
    }
   ],
   "source": [
    "trulala = matrix_vector_multiplication(U, v)\n",
    "trulala"
   ]
  },
  {
   "cell_type": "code",
   "execution_count": 113,
   "id": "d429f26f-b558-4e82-a335-a75654c43443",
   "metadata": {},
   "outputs": [
    {
     "data": {
      "text/plain": [
       "array([57, 23, 36])"
      ]
     },
     "execution_count": 113,
     "metadata": {},
     "output_type": "execute_result"
    }
   ],
   "source": [
    "U.dot(v)"
   ]
  },
  {
   "cell_type": "code",
   "execution_count": 114,
   "id": "626ec3fc-860a-4868-a3c1-363554cc6637",
   "metadata": {},
   "outputs": [],
   "source": [
    "V = np.array([\n",
    "    [1,1,2],\n",
    "    [0, 0.5, 1],\n",
    "    [0,2,1],\n",
    "    [2,1,0]\n",
    "])"
   ]
  },
  {
   "cell_type": "code",
   "execution_count": 121,
   "id": "7a8e0d60-b9f9-46f8-ace0-df82865d0f95",
   "metadata": {},
   "outputs": [],
   "source": [
    "def matrix_matrix_multiplied(U, V):\n",
    "    assert U.shape[1] == V.shape[0]\n",
    "    col_num = V.shape[1]\n",
    "    row_num = V.shape[0] # U.shape[1]\n",
    "    print(col_num)\n",
    "\n",
    "    result_matrix = np.zeros((row_num, col_num))\n",
    "    \n",
    "    for z in range(col_num):\n",
    "        print(\"V[:,z]\", V[:,z])\n",
    "        print(\"U shape\", U.shape[1])\n",
    "        print(\"shape V[:,z]\", V[:,z].shape[0])\n",
    "        result_matrix[z] = matrix_vector_multi_refactored(U, V[:,z]) \n",
    "    return result_matrix"
   ]
  },
  {
   "cell_type": "code",
   "execution_count": 122,
   "id": "2a9d45e7-81b5-4ec3-9e6e-df52f9812aa5",
   "metadata": {},
   "outputs": [
    {
     "name": "stdout",
     "output_type": "stream",
     "text": [
      "3\n",
      "V[:,z] [1. 0. 0. 2.]\n",
      "U shape 4\n",
      "shape V[:,z] 4\n",
      "V[:,z] [1.  0.5 2.  1. ]\n",
      "U shape 4\n",
      "shape V[:,z] 4\n",
      "V[:,z] [2. 1. 1. 0.]\n",
      "U shape 4\n",
      "shape V[:,z] 4\n"
     ]
    },
    {
     "data": {
      "text/plain": [
       "array([[14. ,  5. ,  5. ],\n",
       "       [20. ,  6. ,  8.5],\n",
       "       [13. ,  5. ,  9. ],\n",
       "       [ 0. ,  0. ,  0. ]])"
      ]
     },
     "execution_count": 122,
     "metadata": {},
     "output_type": "execute_result"
    }
   ],
   "source": [
    "matrix_matrix_multiplied(U, V)"
   ]
  },
  {
   "cell_type": "code",
   "execution_count": 123,
   "id": "0872f85f-e240-40f5-8725-e5006c0b3c20",
   "metadata": {},
   "outputs": [
    {
     "data": {
      "text/plain": [
       "array([[14. , 20. , 13. ],\n",
       "       [ 5. ,  6. ,  5. ],\n",
       "       [ 5. ,  8.5,  9. ]])"
      ]
     },
     "execution_count": 123,
     "metadata": {},
     "output_type": "execute_result"
    }
   ],
   "source": [
    "U.dot(V)"
   ]
  },
  {
   "cell_type": "markdown",
   "id": "8be47b36-2454-4269-8da2-2134229f31e7",
   "metadata": {},
   "source": [
    "**Identity matrix**"
   ]
  },
  {
   "cell_type": "code",
   "execution_count": 124,
   "id": "6e2bbb29-4a12-45f4-844e-2c16cd506697",
   "metadata": {},
   "outputs": [],
   "source": [
    "I = np.eye(5)"
   ]
  },
  {
   "cell_type": "code",
   "execution_count": 125,
   "id": "8c187818-5a12-42fd-9ec1-e9a82c340a0c",
   "metadata": {},
   "outputs": [
    {
     "data": {
      "text/plain": [
       "array([[1., 0., 0., 0., 0.],\n",
       "       [0., 1., 0., 0., 0.],\n",
       "       [0., 0., 1., 0., 0.],\n",
       "       [0., 0., 0., 1., 0.],\n",
       "       [0., 0., 0., 0., 1.]])"
      ]
     },
     "execution_count": 125,
     "metadata": {},
     "output_type": "execute_result"
    }
   ],
   "source": [
    "I"
   ]
  },
  {
   "cell_type": "markdown",
   "id": "78abf4c0-805e-4f23-86a8-200491c7beb4",
   "metadata": {},
   "source": [
    "**Inverse matrix**"
   ]
  },
  {
   "cell_type": "code",
   "execution_count": 127,
   "id": "9f36c33f-12ff-4771-a7d5-31a5db4f4e8f",
   "metadata": {},
   "outputs": [
    {
     "data": {
      "text/plain": [
       "array([[1. , 1. , 2. ],\n",
       "       [0. , 0.5, 1. ],\n",
       "       [0. , 2. , 1. ]])"
      ]
     },
     "execution_count": 127,
     "metadata": {},
     "output_type": "execute_result"
    }
   ],
   "source": [
    "Vs = V[[0,1,2]]\n",
    "Vs"
   ]
  },
  {
   "cell_type": "code",
   "execution_count": 128,
   "id": "78870eb5-6b1f-41e3-904d-cddc0e2f5342",
   "metadata": {},
   "outputs": [
    {
     "data": {
      "text/plain": [
       "array([[ 1.        , -2.        ,  0.        ],\n",
       "       [ 0.        , -0.66666667,  0.66666667],\n",
       "       [ 0.        ,  1.33333333, -0.33333333]])"
      ]
     },
     "execution_count": 128,
     "metadata": {},
     "output_type": "execute_result"
    }
   ],
   "source": [
    "Vs_inv = np.linalg.inv(Vs)\n",
    "Vs_inv"
   ]
  },
  {
   "cell_type": "code",
   "execution_count": 129,
   "id": "23f45991-086c-44e1-8b13-22ad2bad5ba5",
   "metadata": {},
   "outputs": [
    {
     "data": {
      "text/plain": [
       "array([[1., 0., 0.],\n",
       "       [0., 1., 0.],\n",
       "       [0., 0., 1.]])"
      ]
     },
     "execution_count": 129,
     "metadata": {},
     "output_type": "execute_result"
    }
   ],
   "source": [
    "Vs.dot(Vs_inv)"
   ]
  },
  {
   "cell_type": "code",
   "execution_count": null,
   "id": "f72de9e3-f4cd-4654-900f-2ebf10404de8",
   "metadata": {},
   "outputs": [],
   "source": []
  }
 ],
 "metadata": {
  "kernelspec": {
   "display_name": "Python 3 (ipykernel)",
   "language": "python",
   "name": "python3"
  },
  "language_info": {
   "codemirror_mode": {
    "name": "ipython",
    "version": 3
   },
   "file_extension": ".py",
   "mimetype": "text/x-python",
   "name": "python",
   "nbconvert_exporter": "python",
   "pygments_lexer": "ipython3",
   "version": "3.12.3"
  }
 },
 "nbformat": 4,
 "nbformat_minor": 5
}
